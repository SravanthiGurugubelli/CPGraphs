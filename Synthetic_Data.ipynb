{
  "nbformat": 4,
  "nbformat_minor": 0,
  "metadata": {
    "colab": {
      "provenance": [],
      "collapsed_sections": []
    },
    "kernelspec": {
      "name": "python3",
      "display_name": "Python 3"
    },
    "language_info": {
      "name": "python"
    }
  },
  "cells": [
    {
      "cell_type": "code",
      "metadata": {
        "id": "IouhS7l1_oAH"
      },
      "source": [
        "from scipy.io import loadmat\n",
        "import numpy as np \n",
        "import matplotlib.pyplot as plt \n",
        "from time import time \n",
        "import networkx as nx\n",
        "from sklearn import preprocessing\n",
        "from sklearn.cluster import KMeans\n",
        "from scipy.sparse.linalg import eigs\n",
        "from matplotlib.colors import LinearSegmentedColormap\n",
        "import seaborn as sns\n",
        "from sklearn.linear_model import LogisticRegression\n",
        "from sklearn.metrics import normalized_mutual_info_score as nmi\n",
        "\n",
        "import pickle\n",
        "def save_variable(variable,filename):\n",
        "  pickle.dump(variable,open(filename, \"wb\"))\n",
        "def load_variable(filename):\n",
        "  return pickle.load(open(filename,'rb')) "
      ],
      "execution_count": 2,
      "outputs": []
    },
    {
      "cell_type": "code",
      "metadata": {
        "id": "OqKlkerK4YjS"
      },
      "source": [
        "# AO\n",
        "# c to theta\n",
        "def get_theta_from_c(lambda_,c,elogD):\n",
        "  N = len(c)\n",
        "  theta = np.zeros((N,N))\n",
        "  for i in range(N):\n",
        "    for j in range(i,N):\n",
        "      theta[i,j] = np.random.laplace(loc=0.0, scale=1/(lambda_*(1-c[i]-c[j]+elogD[i,j])), size=1)\n",
        "      theta[j,i] = theta[i,j]\n",
        "  return theta\n",
        "\n",
        "# theta to X\n",
        "def get_X_from_theta(theta,N,D):\n",
        "  X = np.zeros((N,D))\n",
        "  for i in range(D):\n",
        "    X[:,i] = np.random.multivariate_normal(mean = np.zeros((N,)), cov = np.linalg.inv(theta))\n",
        "  return X"
      ],
      "execution_count": 3,
      "outputs": []
    },
    {
      "cell_type": "code",
      "source": [
        "N = 60\n",
        "D = 30\n",
        "c = np.zeros((60,1))\n",
        "X= np.zeros((N,D,20))\n",
        "elogD = np.zeros((N,N,20))\n",
        "theta = np.zeros((N,N,20))\n",
        "C = np.zeros((N,20))\n",
        "c[0:6,0]=np.random.uniform(0.9,1,np.size(c[0:6,0]))\n",
        "c[6:,0]=np.random.uniform(0,0.01,np.size(c[6:],0))\n",
        "np.sort(c[:,0])[::-1]"
      ],
      "metadata": {
        "id": "sLNtfEOcERy4"
      },
      "execution_count": null,
      "outputs": []
    },
    {
      "cell_type": "code",
      "metadata": {
        "id": "RaRSWq8-7PEi"
      },
      "source": [
        "p=54\n",
        "for k in range(20):\n",
        "  C[0:p,k]=np.random.uniform(0.9,1,np.size(C[0:p,0]))\n",
        "  C[p:,k]=np.random.uniform(0,0.01,np.size(C[p:,0]))\n",
        "  C[:,k] = np.sort(C[:,k])[::-1]\n",
        "\n",
        "  for i in range(N):\n",
        "    for j in range(i,N):\n",
        "      if (i<=p & j<=p):\n",
        "        elogD[i,j,k] = np.random.uniform(1,1.05)\n",
        "        elogD[j,i,k] = elogD[i,j,k]\n",
        "      else:\n",
        "        elogD[i,j,k] = np.random.uniform(1.2,1.25)\n",
        "        elogD[j,i,k] = elogD[i,j,k]\n",
        "\n",
        "  lambda_ = 0.1\n",
        "  theta_aux = get_theta_from_c(lambda_,C[:,k],elogD[:,:,k])\n",
        "  theta[:,:,k] = theta_aux + 300*np.eye(N)\n",
        "  val, vec = eigs(theta[:,:,k],k=1,which='SM')\n",
        "  X[:,:,k] = get_X_from_theta(theta[:,:,k],N,D)"
      ],
      "execution_count": null,
      "outputs": []
    },
    {
      "cell_type": "code",
      "metadata": {
        "id": "NlclolUQ6um-"
      },
      "source": [
        "# c to theta\n",
        "# same as before\n",
        "# c to X - GA-Nonlinear\n",
        "def get_X_from_c_GA_Nonlinear(c,N,D,elogD):\n",
        "  Z = np.ones((N,N))\n",
        "  X = np.zeros((N,D))\n",
        "  for i in range(N):\n",
        "    for j in range(i,N):\n",
        "      Z[i,j] = -c[i]-c[j]+elogD[i,j]\n",
        "      Z[j,i] = Z[i,j]\n",
        "  Z = Z+25*np.eye(N)\n",
        "  for i in range(D):\n",
        "    X[:,i] = np.random.multivariate_normal(mean = np.zeros((N,)), cov = np.linalg.inv(Z))\n",
        "  return X,Z\n",
        "for k in range(20):\n",
        "  X[:,:,k],Z = get_X_from_c_GA_Nonlinear(C[:,k],N,D,elogD[:,:,k])  "
      ],
      "execution_count": 8,
      "outputs": []
    },
    {
      "cell_type": "code",
      "metadata": {
        "id": "QAiUqyzn0rMR"
      },
      "source": [
        "# c to theta\n",
        "# same as before\n",
        "# c to X - GA-Affine-Bool\n",
        "\n",
        "def get_X_from_c_GA_Affine_Bool(c,N,D,elogD):\n",
        "  W = np.random.normal(0,1,(D,1))\n",
        "  X = np.zeros((N,D))\n",
        "  Q = np.zeros((N,D))\n",
        "  for i in range(N):\n",
        "    for j in range(D):\n",
        "      Q[i,j] = 1/(1 + np.exp(-c[i]*W[j])) \n",
        "  X = np.random.binomial(1,Q)\n",
        "  return X, W\n",
        "for k in range(20):  \n",
        "  X[:,:,k], W = get_X_from_c_GA_Affine_Bool(C[:,k],N,D,elogD[:,:,k])  "
      ],
      "execution_count": 12,
      "outputs": []
    },
    {
      "cell_type": "code",
      "metadata": {
        "id": "ftl8B7lvIQS-"
      },
      "source": [
        "# extension\n",
        "# c to theta\n",
        "# same as before\n",
        "# c to X - GA-Affine-Real\n",
        "\n",
        "def get_X_from_c3(c,N,D,elogD):\n",
        "  W = np.random.normal(0,1,(D,1))\n",
        "  X = np.zeros((N,D))\n",
        "  for i in range(N):\n",
        "    for j in range(D):\n",
        "      X[i,j] = np.random.normal(c[i]*W[j],1) \n",
        "  return X, W\n",
        "\n",
        "for k in range(20):    \n",
        "  X[:,:,k], W = get_X_from_c3(C[:,k],N,D,elogD[:,:,k])"
      ],
      "execution_count": 14,
      "outputs": []
    }
  ]
}