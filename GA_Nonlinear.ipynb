{
  "nbformat": 4,
  "nbformat_minor": 0,
  "metadata": {
    "colab": {
      "provenance": [],
      "collapsed_sections": []
    },
    "kernelspec": {
      "display_name": "Python 3",
      "name": "python3"
    },
    "language_info": {
      "name": "python"
    }
  },
  "cells": [
    {
      "cell_type": "code",
      "metadata": {
        "id": "SGmbuEJ-Eexk"
      },
      "source": [
        "!pip install pygsp"
      ],
      "execution_count": null,
      "outputs": []
    },
    {
      "cell_type": "code",
      "metadata": {
        "id": "OGpdtJ2IPxdI"
      },
      "source": [
        "from sklearn.covariance import GraphicalLasso as glasso\n",
        "import numpy as np\n",
        "import timeit\n",
        "from scipy.io import loadmat\n",
        "from scipy.io import savemat\n",
        "import shlex\n",
        "import numpy as np \n",
        "import matplotlib.pyplot as plt \n",
        "from time import time \n",
        "import networkx as nx\n",
        "import pygsp\n",
        "from sklearn import preprocessing\n",
        "from scipy.optimize import linprog\n",
        "from scipy.spatial.distance import pdist\n",
        "from sklearn.cluster import KMeans\n",
        "from scipy.sparse.linalg import eigs\n",
        "from matplotlib.colors import LinearSegmentedColormap\n",
        "import seaborn as sns\n",
        "from sklearn.linear_model import LogisticRegression\n",
        "from sklearn.metrics import normalized_mutual_info_score as nmi\n",
        "import cvxpy as cp\n",
        "from scipy.optimize import bisect\n",
        "from scipy import sparse\n",
        "from scipy.spatial.distance import cosine\n",
        "import pickle\n",
        "def save_variable(variable,filename):\n",
        "  pickle.dump(variable,open(filename, \"wb\"))\n",
        "def load_variable(filename):\n",
        "  return pickle.load(open(filename,'rb')) \n",
        "def NormalizeData(data):\n",
        "  return (data - np.min(data)) / (np.max(data) - np.min(data))"
      ],
      "execution_count": null,
      "outputs": []
    },
    {
      "cell_type": "code",
      "metadata": {
        "cellView": "code",
        "id": "0vPnnbzqqAxY"
      },
      "source": [
        "def Updatec(X,c_init,max_iter,rho_c,elogD,abstheta,m):\n",
        "  c = c_init\n",
        "  N = len(X[:,0])\n",
        "  D = len(X[0,:])\n",
        "  obj = []\n",
        "  K = np.zeros((N,N))\n",
        "  c.shape = ((N,1))\n",
        "  A1 = (abstheta@np.ones((N,1)))+X@X.T@np.ones((N,1))\n",
        "  for j in range(max_iter):\n",
        "    K = -np.kron(c,np.ones((1,N)))-(np.kron(c,np.ones((1,N)))).T+elogD\n",
        "    c = c + rho_c*(-np.linalg.inv(K+0.0001*np.eye(N))@np.ones((N,1))+A1)\n",
        "\n",
        "    def f(x):\n",
        "      return sum([min(max(c[k]-x,0),1) for k in range(N)])-m   \n",
        "    lamda =  bisect(f,-100000,100000) \n",
        "    \n",
        "    for i in        range(N):\n",
        "      c[i] = min(max(c[i]-lamda,0),1)\n",
        "\n",
        "    K = -np.kron(c,np.ones((1,N)))-(np.kron(c,np.ones((1,N)))).T+elogD\n",
        "    obj.append(sum(abs(A0)@c)+np.log(np.linalg.det(K)+0.001)-np.trace(X@X.T@K))\n",
        "    print(j,c)\n",
        "    if j>1:\n",
        "      if (abs(obj[j]-obj[j-1])<1.0e-4): \n",
        "        print('c Converged')\n",
        "        break  \n",
        "\n",
        "  return obj,c\n"
      ],
      "execution_count": null,
      "outputs": []
    },
    {
      "cell_type": "code",
      "source": [
        "#Loading data - C.elegans\n",
        "data = loadmat('/Datasets/Celegans.mat')\n",
        "A0=np.array(data['A0'].todense())\n",
        "N=len(A0[:,0])\n",
        "coords = data['coords']\n",
        "X = data['coords']\n",
        "logD = np.zeros((N,N))\n",
        "for i in range(N):\n",
        "  for j in range(N):\n",
        "    logD[i,j] = 0.09*np.log(1000*(np.linalg.norm(coords[i,0:2]-coords[j,0:2])**2+0.001))\n",
        "elogD = 0.09*logD    \n",
        "\n",
        "'''\n",
        "To load the other datasets used in the paper:\n",
        "\n",
        "#London underground\n",
        "data = loadmat('/Datasets/London_underground.mat')\n",
        "A0=np.array(data['A0'])\n",
        "N=len(A0[:,0])\n",
        "coords = data['Coords']\n",
        "X = data['Coords']\n",
        "logD = np.zeros((N,N))\n",
        "for i in range(N):\n",
        "  for j in range(N):\n",
        "    logD[i,j] = 0.09*np.log(1000*(np.linalg.norm(coords[i,0:2]-coords[j,0:2])**2+0.001))    \n",
        "elogD = 0.09*logD     \n",
        "\n",
        "# Olympics\n",
        "data = loadmat('/Datasets/olympics.mat')\n",
        "X = data['X2']\n",
        "A0 = data['X3']+data['X4']\n",
        "N=len(A0[:,0])\n",
        "elogD = np.zeros((N,N))\n",
        "\n",
        "# Synthetic data\n",
        "A0 = load_variable('/Datasets/syn/theta_syn')\n",
        "N = np.size(A0,0)\n",
        "X = load_variable('/Datasets/syn/X_ga_nonlinear')\n",
        "D = np.size(X,1)\n",
        "elogD = load_variable('/Datasets/syn/elogD_syn')    \n",
        "c_true = load_variable('/Datasets/syn/c_syn')   \n",
        "'''"
      ],
      "metadata": {
        "id": "zVL1W7Q1Ph6s"
      },
      "execution_count": null,
      "outputs": []
    },
    {
      "cell_type": "code",
      "metadata": {
        "id": "amZ7-6ztbYU9",
        "outputId": "da9d1007-edbe-4313-9f30-9e21b4c97ec3",
        "colab": {
          "base_uri": "https://localhost:8080/",
          "height": 412
        }
      },
      "source": [
        "N = np.size(A0,0)\n",
        "D = np.size(X,1)\n",
        "obj_fn = []\n",
        "c = abs(np.random.normal(0,1,(N,)))\n",
        "Z = c@c.T-elogD\n",
        "#Update c---------------------------------------------------------------------\n",
        "obj_fn,c = Updatec(X,c,10,1e-2,elogD,abs(A0),N/8) #X,Q,c,beta,max_iter,rho_w,w_init,abstheta,m\n",
        "print(\"c=\",c)"
      ],
      "execution_count": null,
      "outputs": [
        {
          "output_type": "error",
          "ename": "KeyboardInterrupt",
          "evalue": "ignored",
          "traceback": [
            "\u001b[0;31m---------------------------------------------------------------------------\u001b[0m",
            "\u001b[0;31mKeyboardInterrupt\u001b[0m                         Traceback (most recent call last)",
            "\u001b[0;32m<ipython-input-12-21f44df99d2f>\u001b[0m in \u001b[0;36m<module>\u001b[0;34m\u001b[0m\n\u001b[1;32m      6\u001b[0m \u001b[0mZ\u001b[0m \u001b[0;34m=\u001b[0m \u001b[0mc\u001b[0m\u001b[0;34m@\u001b[0m\u001b[0mc\u001b[0m\u001b[0;34m.\u001b[0m\u001b[0mT\u001b[0m\u001b[0;34m-\u001b[0m\u001b[0melogD\u001b[0m\u001b[0;34m\u001b[0m\u001b[0;34m\u001b[0m\u001b[0m\n\u001b[1;32m      7\u001b[0m \u001b[0;31m#Update c---------------------------------------------------------------------\u001b[0m\u001b[0;34m\u001b[0m\u001b[0;34m\u001b[0m\u001b[0;34m\u001b[0m\u001b[0m\n\u001b[0;32m----> 8\u001b[0;31m \u001b[0mobj_fn\u001b[0m\u001b[0;34m,\u001b[0m\u001b[0mc\u001b[0m \u001b[0;34m=\u001b[0m \u001b[0mUpdatec\u001b[0m\u001b[0;34m(\u001b[0m\u001b[0mX\u001b[0m\u001b[0;34m,\u001b[0m\u001b[0mc\u001b[0m\u001b[0;34m,\u001b[0m\u001b[0;36m10\u001b[0m\u001b[0;34m,\u001b[0m\u001b[0;36m1e-2\u001b[0m\u001b[0;34m,\u001b[0m\u001b[0melogD\u001b[0m\u001b[0;34m,\u001b[0m\u001b[0mabs\u001b[0m\u001b[0;34m(\u001b[0m\u001b[0mA0\u001b[0m\u001b[0;34m)\u001b[0m\u001b[0;34m,\u001b[0m\u001b[0mN\u001b[0m\u001b[0;34m/\u001b[0m\u001b[0;36m8\u001b[0m\u001b[0;34m)\u001b[0m \u001b[0;31m#X,Q,c,beta,max_iter,rho_w,w_init,abstheta,m\u001b[0m\u001b[0;34m\u001b[0m\u001b[0;34m\u001b[0m\u001b[0m\n\u001b[0m\u001b[1;32m      9\u001b[0m \u001b[0mprint\u001b[0m\u001b[0;34m(\u001b[0m\u001b[0;34m\"c=\"\u001b[0m\u001b[0;34m,\u001b[0m\u001b[0mc\u001b[0m\u001b[0;34m)\u001b[0m\u001b[0;34m\u001b[0m\u001b[0;34m\u001b[0m\u001b[0m\n",
            "\u001b[0;32m<ipython-input-6-3b5f95538caa>\u001b[0m in \u001b[0;36mUpdatec\u001b[0;34m(X, c_init, max_iter, rho_c, elogD, abstheta, m)\u001b[0m\n\u001b[1;32m      9\u001b[0m   \u001b[0;32mfor\u001b[0m \u001b[0mj\u001b[0m \u001b[0;32min\u001b[0m \u001b[0mrange\u001b[0m\u001b[0;34m(\u001b[0m\u001b[0mmax_iter\u001b[0m\u001b[0;34m)\u001b[0m\u001b[0;34m:\u001b[0m\u001b[0;34m\u001b[0m\u001b[0;34m\u001b[0m\u001b[0m\n\u001b[1;32m     10\u001b[0m     \u001b[0mK\u001b[0m \u001b[0;34m=\u001b[0m \u001b[0;34m-\u001b[0m\u001b[0mnp\u001b[0m\u001b[0;34m.\u001b[0m\u001b[0mkron\u001b[0m\u001b[0;34m(\u001b[0m\u001b[0mc\u001b[0m\u001b[0;34m,\u001b[0m\u001b[0mnp\u001b[0m\u001b[0;34m.\u001b[0m\u001b[0mones\u001b[0m\u001b[0;34m(\u001b[0m\u001b[0;34m(\u001b[0m\u001b[0;36m1\u001b[0m\u001b[0;34m,\u001b[0m\u001b[0mN\u001b[0m\u001b[0;34m)\u001b[0m\u001b[0;34m)\u001b[0m\u001b[0;34m)\u001b[0m\u001b[0;34m-\u001b[0m\u001b[0;34m(\u001b[0m\u001b[0mnp\u001b[0m\u001b[0;34m.\u001b[0m\u001b[0mkron\u001b[0m\u001b[0;34m(\u001b[0m\u001b[0mc\u001b[0m\u001b[0;34m,\u001b[0m\u001b[0mnp\u001b[0m\u001b[0;34m.\u001b[0m\u001b[0mones\u001b[0m\u001b[0;34m(\u001b[0m\u001b[0;34m(\u001b[0m\u001b[0;36m1\u001b[0m\u001b[0;34m,\u001b[0m\u001b[0mN\u001b[0m\u001b[0;34m)\u001b[0m\u001b[0;34m)\u001b[0m\u001b[0;34m)\u001b[0m\u001b[0;34m)\u001b[0m\u001b[0;34m.\u001b[0m\u001b[0mT\u001b[0m\u001b[0;34m+\u001b[0m\u001b[0melogD\u001b[0m\u001b[0;34m\u001b[0m\u001b[0;34m\u001b[0m\u001b[0m\n\u001b[0;32m---> 11\u001b[0;31m     \u001b[0mc\u001b[0m \u001b[0;34m=\u001b[0m \u001b[0mc\u001b[0m \u001b[0;34m+\u001b[0m \u001b[0mrho_c\u001b[0m\u001b[0;34m*\u001b[0m\u001b[0;34m(\u001b[0m\u001b[0;34m-\u001b[0m\u001b[0mnp\u001b[0m\u001b[0;34m.\u001b[0m\u001b[0mlinalg\u001b[0m\u001b[0;34m.\u001b[0m\u001b[0minv\u001b[0m\u001b[0;34m(\u001b[0m\u001b[0mK\u001b[0m\u001b[0;34m+\u001b[0m\u001b[0;36m0.0001\u001b[0m\u001b[0;34m*\u001b[0m\u001b[0mnp\u001b[0m\u001b[0;34m.\u001b[0m\u001b[0meye\u001b[0m\u001b[0;34m(\u001b[0m\u001b[0mN\u001b[0m\u001b[0;34m)\u001b[0m\u001b[0;34m)\u001b[0m\u001b[0;34m@\u001b[0m\u001b[0mnp\u001b[0m\u001b[0;34m.\u001b[0m\u001b[0mones\u001b[0m\u001b[0;34m(\u001b[0m\u001b[0;34m(\u001b[0m\u001b[0mN\u001b[0m\u001b[0;34m,\u001b[0m\u001b[0;36m1\u001b[0m\u001b[0;34m)\u001b[0m\u001b[0;34m)\u001b[0m\u001b[0;34m+\u001b[0m\u001b[0mA1\u001b[0m\u001b[0;34m)\u001b[0m\u001b[0;34m\u001b[0m\u001b[0;34m\u001b[0m\u001b[0m\n\u001b[0m\u001b[1;32m     12\u001b[0m \u001b[0;34m\u001b[0m\u001b[0m\n\u001b[1;32m     13\u001b[0m     \u001b[0;32mdef\u001b[0m \u001b[0mf\u001b[0m\u001b[0;34m(\u001b[0m\u001b[0mx\u001b[0m\u001b[0;34m)\u001b[0m\u001b[0;34m:\u001b[0m\u001b[0;34m\u001b[0m\u001b[0;34m\u001b[0m\u001b[0m\n",
            "\u001b[0;32m<__array_function__ internals>\u001b[0m in \u001b[0;36minv\u001b[0;34m(*args, **kwargs)\u001b[0m\n",
            "\u001b[0;32m/usr/local/lib/python3.7/dist-packages/numpy/linalg/linalg.py\u001b[0m in \u001b[0;36minv\u001b[0;34m(a)\u001b[0m\n\u001b[1;32m    543\u001b[0m     \u001b[0msignature\u001b[0m \u001b[0;34m=\u001b[0m \u001b[0;34m'D->D'\u001b[0m \u001b[0;32mif\u001b[0m \u001b[0misComplexType\u001b[0m\u001b[0;34m(\u001b[0m\u001b[0mt\u001b[0m\u001b[0;34m)\u001b[0m \u001b[0;32melse\u001b[0m \u001b[0;34m'd->d'\u001b[0m\u001b[0;34m\u001b[0m\u001b[0;34m\u001b[0m\u001b[0m\n\u001b[1;32m    544\u001b[0m     \u001b[0mextobj\u001b[0m \u001b[0;34m=\u001b[0m \u001b[0mget_linalg_error_extobj\u001b[0m\u001b[0;34m(\u001b[0m\u001b[0m_raise_linalgerror_singular\u001b[0m\u001b[0;34m)\u001b[0m\u001b[0;34m\u001b[0m\u001b[0;34m\u001b[0m\u001b[0m\n\u001b[0;32m--> 545\u001b[0;31m     \u001b[0mainv\u001b[0m \u001b[0;34m=\u001b[0m \u001b[0m_umath_linalg\u001b[0m\u001b[0;34m.\u001b[0m\u001b[0minv\u001b[0m\u001b[0;34m(\u001b[0m\u001b[0ma\u001b[0m\u001b[0;34m,\u001b[0m \u001b[0msignature\u001b[0m\u001b[0;34m=\u001b[0m\u001b[0msignature\u001b[0m\u001b[0;34m,\u001b[0m \u001b[0mextobj\u001b[0m\u001b[0;34m=\u001b[0m\u001b[0mextobj\u001b[0m\u001b[0;34m)\u001b[0m\u001b[0;34m\u001b[0m\u001b[0;34m\u001b[0m\u001b[0m\n\u001b[0m\u001b[1;32m    546\u001b[0m     \u001b[0;32mreturn\u001b[0m \u001b[0mwrap\u001b[0m\u001b[0;34m(\u001b[0m\u001b[0mainv\u001b[0m\u001b[0;34m.\u001b[0m\u001b[0mastype\u001b[0m\u001b[0;34m(\u001b[0m\u001b[0mresult_t\u001b[0m\u001b[0;34m,\u001b[0m \u001b[0mcopy\u001b[0m\u001b[0;34m=\u001b[0m\u001b[0;32mFalse\u001b[0m\u001b[0;34m)\u001b[0m\u001b[0;34m)\u001b[0m\u001b[0;34m\u001b[0m\u001b[0;34m\u001b[0m\u001b[0m\n\u001b[1;32m    547\u001b[0m \u001b[0;34m\u001b[0m\u001b[0m\n",
            "\u001b[0;31mKeyboardInterrupt\u001b[0m: "
          ]
        }
      ]
    }
  ]
}